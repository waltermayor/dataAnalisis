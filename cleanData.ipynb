{
  "nbformat": 4,
  "nbformat_minor": 0,
  "metadata": {
    "colab": {
      "name": "cleanData.ipynb",
      "provenance": [],
      "authorship_tag": "ABX9TyPabO755m9mjNtfWN7rMXZ4",
      "include_colab_link": true
    },
    "kernelspec": {
      "name": "python3",
      "display_name": "Python 3"
    }
  },
  "cells": [
    {
      "cell_type": "markdown",
      "metadata": {
        "id": "view-in-github",
        "colab_type": "text"
      },
      "source": [
        "<a href=\"https://colab.research.google.com/github/waltermayor/dataAnalisis/blob/master/cleanData.ipynb\" target=\"_parent\"><img src=\"https://colab.research.google.com/assets/colab-badge.svg\" alt=\"Open In Colab\"/></a>"
      ]
    },
    {
      "cell_type": "code",
      "metadata": {
        "id": "hvuL68KDLlc-",
        "colab_type": "code",
        "colab": {
          "base_uri": "https://localhost:8080/",
          "height": 124
        },
        "outputId": "471f30b8-4b57-4ba2-ed7d-594abbb65cfe"
      },
      "source": [
        "from google.colab import drive\n",
        "drive.mount('/content/drive')"
      ],
      "execution_count": 7,
      "outputs": [
        {
          "output_type": "stream",
          "text": [
            "Go to this URL in a browser: https://accounts.google.com/o/oauth2/auth?client_id=947318989803-6bn6qk8qdgf4n4g3pfee6491hc0brc4i.apps.googleusercontent.com&redirect_uri=urn%3aietf%3awg%3aoauth%3a2.0%3aoob&response_type=code&scope=email%20https%3a%2f%2fwww.googleapis.com%2fauth%2fdocs.test%20https%3a%2f%2fwww.googleapis.com%2fauth%2fdrive%20https%3a%2f%2fwww.googleapis.com%2fauth%2fdrive.photos.readonly%20https%3a%2f%2fwww.googleapis.com%2fauth%2fpeopleapi.readonly\n",
            "\n",
            "Enter your authorization code:\n",
            "··········\n",
            "Mounted at /content/drive\n"
          ],
          "name": "stdout"
        }
      ]
    },
    {
      "cell_type": "code",
      "metadata": {
        "id": "uBerpT3ZFV4v",
        "colab_type": "code",
        "colab": {
          "base_uri": "https://localhost:8080/",
          "height": 34
        },
        "outputId": "91380b11-8a69-4d46-a6f5-bb208ca7821e"
      },
      "source": [
        "import pandas as pd\n",
        "import numpy as np\n",
        "import seaborn as sns\n",
        "\n",
        "import matplotlib.pyplot as plt\n",
        "import matplotlib.mlab as mlab\n",
        "import matplotlib\n",
        "import os\n",
        "\n",
        "path='/content/drive/My Drive/dataset/dphi/'\n",
        "os.chdir(path)\n",
        "!pwd\n",
        "\n",
        "\n",
        "\n",
        "plt.style.use('ggplot')\n",
        "from matplotlib.pyplot import figure\n",
        "\n",
        "%matplotlib inline\n",
        "matplotlib.rcParams['figure.figsize'] = (12,8)\n",
        "\n",
        "pd.options.mode.chained_assignment = None\n",
        "\n",
        "\n"
      ],
      "execution_count": 8,
      "outputs": [
        {
          "output_type": "stream",
          "text": [
            "/content/drive/My Drive/dataset/dphi\n"
          ],
          "name": "stdout"
        }
      ]
    },
    {
      "cell_type": "code",
      "metadata": {
        "id": "LiEEZRAVFjW9",
        "colab_type": "code",
        "colab": {
          "base_uri": "https://localhost:8080/",
          "height": 1000
        },
        "outputId": "b9a259b2-6838-4c6f-b261-a1709e87e9b0"
      },
      "source": [
        "# read the data\n",
        "df = pd.read_csv('sberbank.csv')\n",
        "# shape and data types of the data\n",
        "print(df.shape)\n",
        "print(df.dtypes)\n",
        "\n",
        "# select numeric columns\n",
        "df_numeric = df.select_dtypes(include=[np.number])\n",
        "numeric_cols = df_numeric.columns.values\n",
        "print(numeric_cols)\n",
        "\n",
        "# select non numeric columns\n",
        "df_non_numeric = df.select_dtypes(exclude=[np.number])\n",
        "non_numeric_cols = df_non_numeric.columns.values\n",
        "print(non_numeric_cols)"
      ],
      "execution_count": 9,
      "outputs": [
        {
          "output_type": "stream",
          "text": [
            "(7662, 291)\n",
            "id                      int64\n",
            "timestamp              object\n",
            "full_sq               float64\n",
            "life_sq               float64\n",
            "floor                   int64\n",
            "                       ...   \n",
            "church_count_5000       int64\n",
            "mosque_count_5000       int64\n",
            "leisure_count_5000      int64\n",
            "sport_count_5000        int64\n",
            "market_count_5000       int64\n",
            "Length: 291, dtype: object\n",
            "['id' 'full_sq' 'life_sq' 'floor' 'max_floor' 'material' 'build_year'\n",
            " 'num_room' 'kitch_sq' 'state' 'area_m' 'raion_popul' 'green_zone_part'\n",
            " 'indust_part' 'children_preschool' 'preschool_quota'\n",
            " 'preschool_education_centers_raion' 'children_school' 'school_quota'\n",
            " 'school_education_centers_raion' 'school_education_centers_top_20_raion'\n",
            " 'hospital_beds_raion' 'healthcare_centers_raion'\n",
            " 'university_top_20_raion' 'sport_objects_raion'\n",
            " 'additional_education_raion' 'culture_objects_top_25_raion'\n",
            " 'shopping_centers_raion' 'office_raion' 'full_all' 'male_f' 'female_f'\n",
            " 'young_all' 'young_male' 'young_female' 'work_all' 'work_male'\n",
            " 'work_female' 'ekder_all' 'ekder_male' 'ekder_female' '0_6_all'\n",
            " '0_6_male' '0_6_female' '7_14_all' '7_14_male' '7_14_female' '0_17_all'\n",
            " '0_17_male' '0_17_female' '16_29_all' '16_29_male' '16_29_female'\n",
            " '0_13_all' '0_13_male' '0_13_female'\n",
            " 'raion_build_count_with_material_info' 'build_count_block'\n",
            " 'build_count_wood' 'build_count_frame' 'build_count_brick'\n",
            " 'build_count_monolith' 'build_count_panel' 'build_count_foam'\n",
            " 'build_count_slag' 'build_count_mix'\n",
            " 'raion_build_count_with_builddate_info' 'build_count_before_1920'\n",
            " 'build_count_1921-1945' 'build_count_1946-1970' 'build_count_1971-1995'\n",
            " 'build_count_after_1995' 'ID_metro' 'metro_min_avto' 'metro_km_avto'\n",
            " 'metro_min_walk' 'metro_km_walk' 'kindergarten_km' 'school_km' 'park_km'\n",
            " 'green_zone_km' 'industrial_km' 'water_treatment_km' 'cemetery_km'\n",
            " 'incineration_km' 'railroad_station_walk_km' 'railroad_station_walk_min'\n",
            " 'ID_railroad_station_walk' 'railroad_station_avto_km'\n",
            " 'railroad_station_avto_min' 'ID_railroad_station_avto'\n",
            " 'public_transport_station_km' 'public_transport_station_min_walk'\n",
            " 'water_km' 'mkad_km' 'ttk_km' 'sadovoe_km' 'bulvar_ring_km' 'kremlin_km'\n",
            " 'big_road1_km' 'ID_big_road1' 'big_road2_km' 'ID_big_road2' 'railroad_km'\n",
            " 'zd_vokzaly_avto_km' 'ID_railroad_terminal' 'bus_terminal_avto_km'\n",
            " 'ID_bus_terminal' 'oil_chemistry_km' 'nuclear_reactor_km' 'radiation_km'\n",
            " 'power_transmission_line_km' 'thermal_power_plant_km' 'ts_km'\n",
            " 'big_market_km' 'market_shop_km' 'fitness_km' 'swim_pool_km'\n",
            " 'ice_rink_km' 'stadium_km' 'basketball_km' 'hospice_morgue_km'\n",
            " 'detention_facility_km' 'public_healthcare_km' 'university_km'\n",
            " 'workplaces_km' 'shopping_centers_km' 'office_km'\n",
            " 'additional_education_km' 'preschool_km' 'big_church_km'\n",
            " 'church_synagogue_km' 'mosque_km' 'theater_km' 'museum_km'\n",
            " 'exhibition_km' 'catering_km' 'green_part_500' 'prom_part_500'\n",
            " 'office_count_500' 'office_sqm_500' 'trc_count_500' 'trc_sqm_500'\n",
            " 'cafe_count_500' 'cafe_sum_500_min_price_avg'\n",
            " 'cafe_sum_500_max_price_avg' 'cafe_avg_price_500'\n",
            " 'cafe_count_500_na_price' 'cafe_count_500_price_500'\n",
            " 'cafe_count_500_price_1000' 'cafe_count_500_price_1500'\n",
            " 'cafe_count_500_price_2500' 'cafe_count_500_price_4000'\n",
            " 'cafe_count_500_price_high' 'big_church_count_500' 'church_count_500'\n",
            " 'mosque_count_500' 'leisure_count_500' 'sport_count_500'\n",
            " 'market_count_500' 'green_part_1000' 'prom_part_1000' 'office_count_1000'\n",
            " 'office_sqm_1000' 'trc_count_1000' 'trc_sqm_1000' 'cafe_count_1000'\n",
            " 'cafe_sum_1000_min_price_avg' 'cafe_sum_1000_max_price_avg'\n",
            " 'cafe_avg_price_1000' 'cafe_count_1000_na_price'\n",
            " 'cafe_count_1000_price_500' 'cafe_count_1000_price_1000'\n",
            " 'cafe_count_1000_price_1500' 'cafe_count_1000_price_2500'\n",
            " 'cafe_count_1000_price_4000' 'cafe_count_1000_price_high'\n",
            " 'big_church_count_1000' 'church_count_1000' 'mosque_count_1000'\n",
            " 'leisure_count_1000' 'sport_count_1000' 'market_count_1000'\n",
            " 'green_part_1500' 'prom_part_1500' 'office_count_1500' 'office_sqm_1500'\n",
            " 'trc_count_1500' 'trc_sqm_1500' 'cafe_count_1500'\n",
            " 'cafe_sum_1500_min_price_avg' 'cafe_sum_1500_max_price_avg'\n",
            " 'cafe_avg_price_1500' 'cafe_count_1500_na_price'\n",
            " 'cafe_count_1500_price_500' 'cafe_count_1500_price_1000'\n",
            " 'cafe_count_1500_price_1500' 'cafe_count_1500_price_2500'\n",
            " 'cafe_count_1500_price_4000' 'cafe_count_1500_price_high'\n",
            " 'big_church_count_1500' 'church_count_1500' 'mosque_count_1500'\n",
            " 'leisure_count_1500' 'sport_count_1500' 'market_count_1500'\n",
            " 'green_part_2000' 'prom_part_2000' 'office_count_2000' 'office_sqm_2000'\n",
            " 'trc_count_2000' 'trc_sqm_2000' 'cafe_count_2000'\n",
            " 'cafe_sum_2000_min_price_avg' 'cafe_sum_2000_max_price_avg'\n",
            " 'cafe_avg_price_2000' 'cafe_count_2000_na_price'\n",
            " 'cafe_count_2000_price_500' 'cafe_count_2000_price_1000'\n",
            " 'cafe_count_2000_price_1500' 'cafe_count_2000_price_2500'\n",
            " 'cafe_count_2000_price_4000' 'cafe_count_2000_price_high'\n",
            " 'big_church_count_2000' 'church_count_2000' 'mosque_count_2000'\n",
            " 'leisure_count_2000' 'sport_count_2000' 'market_count_2000'\n",
            " 'green_part_3000' 'prom_part_3000' 'office_count_3000' 'office_sqm_3000'\n",
            " 'trc_count_3000' 'trc_sqm_3000' 'cafe_count_3000'\n",
            " 'cafe_sum_3000_min_price_avg' 'cafe_sum_3000_max_price_avg'\n",
            " 'cafe_avg_price_3000' 'cafe_count_3000_na_price'\n",
            " 'cafe_count_3000_price_500' 'cafe_count_3000_price_1000'\n",
            " 'cafe_count_3000_price_1500' 'cafe_count_3000_price_2500'\n",
            " 'cafe_count_3000_price_4000' 'cafe_count_3000_price_high'\n",
            " 'big_church_count_3000' 'church_count_3000' 'mosque_count_3000'\n",
            " 'leisure_count_3000' 'sport_count_3000' 'market_count_3000'\n",
            " 'green_part_5000' 'prom_part_5000' 'office_count_5000' 'office_sqm_5000'\n",
            " 'trc_count_5000' 'trc_sqm_5000' 'cafe_count_5000'\n",
            " 'cafe_sum_5000_min_price_avg' 'cafe_sum_5000_max_price_avg'\n",
            " 'cafe_avg_price_5000' 'cafe_count_5000_na_price'\n",
            " 'cafe_count_5000_price_500' 'cafe_count_5000_price_1000'\n",
            " 'cafe_count_5000_price_1500' 'cafe_count_5000_price_2500'\n",
            " 'cafe_count_5000_price_4000' 'cafe_count_5000_price_high'\n",
            " 'big_church_count_5000' 'church_count_5000' 'mosque_count_5000'\n",
            " 'leisure_count_5000' 'sport_count_5000' 'market_count_5000']\n",
            "['timestamp' 'product_type' 'sub_area' 'culture_objects_top_25'\n",
            " 'thermal_power_plant_raion' 'incineration_raion' 'oil_chemistry_raion'\n",
            " 'radiation_raion' 'railroad_terminal_raion' 'big_market_raion'\n",
            " 'nuclear_reactor_raion' 'detention_facility_raion' 'water_1line'\n",
            " 'big_road1_1line' 'railroad_1line' 'ecology']\n"
          ],
          "name": "stdout"
        }
      ]
    },
    {
      "cell_type": "markdown",
      "metadata": {
        "id": "OJQIUfESNC7I",
        "colab_type": "text"
      },
      "source": [
        "## **Missing Data Heatmap**"
      ]
    },
    {
      "cell_type": "code",
      "metadata": {
        "id": "6JJNp22DMqlX",
        "colab_type": "code",
        "colab": {
          "base_uri": "https://localhost:8080/",
          "height": 692
        },
        "outputId": "cfccf18e-3457-402e-d32c-342199f052d2"
      },
      "source": [
        "cols = df.columns[:30] # first 30 columns\n",
        "colours = ['#000099', '#ffff00'] # specify the colours - yellow is missing. blue is not missing.\n",
        "sns.heatmap(df[cols].isnull(), cmap=sns.color_palette(colours))"
      ],
      "execution_count": 10,
      "outputs": [
        {
          "output_type": "execute_result",
          "data": {
            "text/plain": [
              "<matplotlib.axes._subplots.AxesSubplot at 0x7f62af5a7828>"
            ]
          },
          "metadata": {
            "tags": []
          },
          "execution_count": 10
        },
        {
          "output_type": "display_data",
          "data": {
            "image/png": "[encoded data removed]",
            "text/plain": [
              "<Figure size 864x576 with 2 Axes>"
            ]
          },
          "metadata": {
            "tags": [],
            "needs_background": "light"
          }
        }
      ]
    },
    {
      "cell_type": "markdown",
      "metadata": {
        "id": "WDJ65cCMNPtA",
        "colab_type": "text"
      },
      "source": [
        "## **Missing Data Percentage List**"
      ]
    },
    {
      "cell_type": "code",
      "metadata": {
        "id": "rhguIj_BNQK5",
        "colab_type": "code",
        "colab": {
          "base_uri": "https://localhost:8080/",
          "height": 1000
        },
        "outputId": "9147799f-93f8-4021-dd98-2b100877fe4b"
      },
      "source": [
        "for col in df.columns:\n",
        "    pct_missing = np.mean(df[col].isnull())\n",
        "    print('{} - {}%'.format(col, round(pct_missing*100)))"
      ],
      "execution_count": 11,
      "outputs": [
        {
          "output_type": "stream",
          "text": [
            "id - 0.0%\n",
            "timestamp - 0.0%\n",
            "full_sq - 0.0%\n",
            "life_sq - 15.0%\n",
            "floor - 0.0%\n",
            "max_floor - 0.0%\n",
            "material - 0.0%\n",
            "build_year - 14.0%\n",
            "num_room - 0.0%\n",
            "kitch_sq - 0.0%\n",
            "state - 9.0%\n",
            "product_type - 0.0%\n",
            "sub_area - 0.0%\n",
            "area_m - 0.0%\n",
            "raion_popul - 0.0%\n",
            "green_zone_part - 0.0%\n",
            "indust_part - 0.0%\n",
            "children_preschool - 0.0%\n",
            "preschool_quota - 21.0%\n",
            "preschool_education_centers_raion - 0.0%\n",
            "children_school - 0.0%\n",
            "school_quota - 21.0%\n",
            "school_education_centers_raion - 0.0%\n",
            "school_education_centers_top_20_raion - 0.0%\n",
            "hospital_beds_raion - 45.0%\n",
            "healthcare_centers_raion - 0.0%\n",
            "university_top_20_raion - 0.0%\n",
            "sport_objects_raion - 0.0%\n",
            "additional_education_raion - 0.0%\n",
            "culture_objects_top_25 - 0.0%\n",
            "culture_objects_top_25_raion - 0.0%\n",
            "shopping_centers_raion - 0.0%\n",
            "office_raion - 0.0%\n",
            "thermal_power_plant_raion - 0.0%\n",
            "incineration_raion - 0.0%\n",
            "oil_chemistry_raion - 0.0%\n",
            "radiation_raion - 0.0%\n",
            "railroad_terminal_raion - 0.0%\n",
            "big_market_raion - 0.0%\n",
            "nuclear_reactor_raion - 0.0%\n",
            "detention_facility_raion - 0.0%\n",
            "full_all - 0.0%\n",
            "male_f - 0.0%\n",
            "female_f - 0.0%\n",
            "young_all - 0.0%\n",
            "young_male - 0.0%\n",
            "young_female - 0.0%\n",
            "work_all - 0.0%\n",
            "work_male - 0.0%\n",
            "work_female - 0.0%\n",
            "ekder_all - 0.0%\n",
            "ekder_male - 0.0%\n",
            "ekder_female - 0.0%\n",
            "0_6_all - 0.0%\n",
            "0_6_male - 0.0%\n",
            "0_6_female - 0.0%\n",
            "7_14_all - 0.0%\n",
            "7_14_male - 0.0%\n",
            "7_14_female - 0.0%\n",
            "0_17_all - 0.0%\n",
            "0_17_male - 0.0%\n",
            "0_17_female - 0.0%\n",
            "16_29_all - 0.0%\n",
            "16_29_male - 0.0%\n",
            "16_29_female - 0.0%\n",
            "0_13_all - 0.0%\n",
            "0_13_male - 0.0%\n",
            "0_13_female - 0.0%\n",
            "raion_build_count_with_material_info - 16.0%\n",
            "build_count_block - 16.0%\n",
            "build_count_wood - 16.0%\n",
            "build_count_frame - 16.0%\n",
            "build_count_brick - 16.0%\n",
            "build_count_monolith - 16.0%\n",
            "build_count_panel - 16.0%\n",
            "build_count_foam - 16.0%\n",
            "build_count_slag - 16.0%\n",
            "build_count_mix - 16.0%\n",
            "raion_build_count_with_builddate_info - 16.0%\n",
            "build_count_before_1920 - 16.0%\n",
            "build_count_1921-1945 - 16.0%\n",
            "build_count_1946-1970 - 16.0%\n",
            "build_count_1971-1995 - 16.0%\n",
            "build_count_after_1995 - 16.0%\n",
            "ID_metro - 0.0%\n",
            "metro_min_avto - 0.0%\n",
            "metro_km_avto - 0.0%\n",
            "metro_min_walk - 0.0%\n",
            "metro_km_walk - 0.0%\n",
            "kindergarten_km - 0.0%\n",
            "school_km - 0.0%\n",
            "park_km - 0.0%\n",
            "green_zone_km - 0.0%\n",
            "industrial_km - 0.0%\n",
            "water_treatment_km - 0.0%\n",
            "cemetery_km - 0.0%\n",
            "incineration_km - 0.0%\n",
            "railroad_station_walk_km - 0.0%\n",
            "railroad_station_walk_min - 0.0%\n",
            "ID_railroad_station_walk - 0.0%\n",
            "railroad_station_avto_km - 0.0%\n",
            "railroad_station_avto_min - 0.0%\n",
            "ID_railroad_station_avto - 0.0%\n",
            "public_transport_station_km - 0.0%\n",
            "public_transport_station_min_walk - 0.0%\n",
            "water_km - 0.0%\n",
            "water_1line - 0.0%\n",
            "mkad_km - 0.0%\n",
            "ttk_km - 0.0%\n",
            "sadovoe_km - 0.0%\n",
            "bulvar_ring_km - 0.0%\n",
            "kremlin_km - 0.0%\n",
            "big_road1_km - 0.0%\n",
            "ID_big_road1 - 0.0%\n",
            "big_road1_1line - 0.0%\n",
            "big_road2_km - 0.0%\n",
            "ID_big_road2 - 0.0%\n",
            "railroad_km - 0.0%\n",
            "railroad_1line - 0.0%\n",
            "zd_vokzaly_avto_km - 0.0%\n",
            "ID_railroad_terminal - 0.0%\n",
            "bus_terminal_avto_km - 0.0%\n",
            "ID_bus_terminal - 0.0%\n",
            "oil_chemistry_km - 0.0%\n",
            "nuclear_reactor_km - 0.0%\n",
            "radiation_km - 0.0%\n",
            "power_transmission_line_km - 0.0%\n",
            "thermal_power_plant_km - 0.0%\n",
            "ts_km - 0.0%\n",
            "big_market_km - 0.0%\n",
            "market_shop_km - 0.0%\n",
            "fitness_km - 0.0%\n",
            "swim_pool_km - 0.0%\n",
            "ice_rink_km - 0.0%\n",
            "stadium_km - 0.0%\n",
            "basketball_km - 0.0%\n",
            "hospice_morgue_km - 0.0%\n",
            "detention_facility_km - 0.0%\n",
            "public_healthcare_km - 0.0%\n",
            "university_km - 0.0%\n",
            "workplaces_km - 0.0%\n",
            "shopping_centers_km - 0.0%\n",
            "office_km - 0.0%\n",
            "additional_education_km - 0.0%\n",
            "preschool_km - 0.0%\n",
            "big_church_km - 0.0%\n",
            "church_synagogue_km - 0.0%\n",
            "mosque_km - 0.0%\n",
            "theater_km - 0.0%\n",
            "museum_km - 0.0%\n",
            "exhibition_km - 0.0%\n",
            "catering_km - 0.0%\n",
            "ecology - 0.0%\n",
            "green_part_500 - 0.0%\n",
            "prom_part_500 - 0.0%\n",
            "office_count_500 - 0.0%\n",
            "office_sqm_500 - 0.0%\n",
            "trc_count_500 - 0.0%\n",
            "trc_sqm_500 - 0.0%\n",
            "cafe_count_500 - 0.0%\n",
            "cafe_sum_500_min_price_avg - 41.0%\n",
            "cafe_sum_500_max_price_avg - 41.0%\n",
            "cafe_avg_price_500 - 41.0%\n",
            "cafe_count_500_na_price - 0.0%\n",
            "cafe_count_500_price_500 - 0.0%\n",
            "cafe_count_500_price_1000 - 0.0%\n",
            "cafe_count_500_price_1500 - 0.0%\n",
            "cafe_count_500_price_2500 - 0.0%\n",
            "cafe_count_500_price_4000 - 0.0%\n",
            "cafe_count_500_price_high - 0.0%\n",
            "big_church_count_500 - 0.0%\n",
            "church_count_500 - 0.0%\n",
            "mosque_count_500 - 0.0%\n",
            "leisure_count_500 - 0.0%\n",
            "sport_count_500 - 0.0%\n",
            "market_count_500 - 0.0%\n",
            "green_part_1000 - 0.0%\n",
            "prom_part_1000 - 0.0%\n",
            "office_count_1000 - 0.0%\n",
            "office_sqm_1000 - 0.0%\n",
            "trc_count_1000 - 0.0%\n",
            "trc_sqm_1000 - 0.0%\n",
            "cafe_count_1000 - 0.0%\n",
            "cafe_sum_1000_min_price_avg - 16.0%\n",
            "cafe_sum_1000_max_price_avg - 16.0%\n",
            "cafe_avg_price_1000 - 16.0%\n",
            "cafe_count_1000_na_price - 0.0%\n",
            "cafe_count_1000_price_500 - 0.0%\n",
            "cafe_count_1000_price_1000 - 0.0%\n",
            "cafe_count_1000_price_1500 - 0.0%\n",
            "cafe_count_1000_price_2500 - 0.0%\n",
            "cafe_count_1000_price_4000 - 0.0%\n",
            "cafe_count_1000_price_high - 0.0%\n",
            "big_church_count_1000 - 0.0%\n",
            "church_count_1000 - 0.0%\n",
            "mosque_count_1000 - 0.0%\n",
            "leisure_count_1000 - 0.0%\n",
            "sport_count_1000 - 0.0%\n",
            "market_count_1000 - 0.0%\n",
            "green_part_1500 - 0.0%\n",
            "prom_part_1500 - 0.0%\n",
            "office_count_1500 - 0.0%\n",
            "office_sqm_1500 - 0.0%\n",
            "trc_count_1500 - 0.0%\n",
            "trc_sqm_1500 - 0.0%\n",
            "cafe_count_1500 - 0.0%\n",
            "cafe_sum_1500_min_price_avg - 11.0%\n",
            "cafe_sum_1500_max_price_avg - 11.0%\n",
            "cafe_avg_price_1500 - 11.0%\n",
            "cafe_count_1500_na_price - 0.0%\n",
            "cafe_count_1500_price_500 - 0.0%\n",
            "cafe_count_1500_price_1000 - 0.0%\n",
            "cafe_count_1500_price_1500 - 0.0%\n",
            "cafe_count_1500_price_2500 - 0.0%\n",
            "cafe_count_1500_price_4000 - 0.0%\n",
            "cafe_count_1500_price_high - 0.0%\n",
            "big_church_count_1500 - 0.0%\n",
            "church_count_1500 - 0.0%\n",
            "mosque_count_1500 - 0.0%\n",
            "leisure_count_1500 - 0.0%\n",
            "sport_count_1500 - 0.0%\n",
            "market_count_1500 - 0.0%\n",
            "green_part_2000 - 0.0%\n",
            "prom_part_2000 - 0.0%\n",
            "office_count_2000 - 0.0%\n",
            "office_sqm_2000 - 0.0%\n",
            "trc_count_2000 - 0.0%\n",
            "trc_sqm_2000 - 0.0%\n",
            "cafe_count_2000 - 0.0%\n",
            "cafe_sum_2000_min_price_avg - 6.0%\n",
            "cafe_sum_2000_max_price_avg - 6.0%\n",
            "cafe_avg_price_2000 - 6.0%\n",
            "cafe_count_2000_na_price - 0.0%\n",
            "cafe_count_2000_price_500 - 0.0%\n",
            "cafe_count_2000_price_1000 - 0.0%\n",
            "cafe_count_2000_price_1500 - 0.0%\n",
            "cafe_count_2000_price_2500 - 0.0%\n",
            "cafe_count_2000_price_4000 - 0.0%\n",
            "cafe_count_2000_price_high - 0.0%\n",
            "big_church_count_2000 - 0.0%\n",
            "church_count_2000 - 0.0%\n",
            "mosque_count_2000 - 0.0%\n",
            "leisure_count_2000 - 0.0%\n",
            "sport_count_2000 - 0.0%\n",
            "market_count_2000 - 0.0%\n",
            "green_part_3000 - 0.0%\n",
            "prom_part_3000 - 0.0%\n",
            "office_count_3000 - 0.0%\n",
            "office_sqm_3000 - 0.0%\n",
            "trc_count_3000 - 0.0%\n",
            "trc_sqm_3000 - 0.0%\n",
            "cafe_count_3000 - 0.0%\n",
            "cafe_sum_3000_min_price_avg - 2.0%\n",
            "cafe_sum_3000_max_price_avg - 2.0%\n",
            "cafe_avg_price_3000 - 2.0%\n",
            "cafe_count_3000_na_price - 0.0%\n",
            "cafe_count_3000_price_500 - 0.0%\n",
            "cafe_count_3000_price_1000 - 0.0%\n",
            "cafe_count_3000_price_1500 - 0.0%\n",
            "cafe_count_3000_price_2500 - 0.0%\n",
            "cafe_count_3000_price_4000 - 0.0%\n",
            "cafe_count_3000_price_high - 0.0%\n",
            "big_church_count_3000 - 0.0%\n",
            "church_count_3000 - 0.0%\n",
            "mosque_count_3000 - 0.0%\n",
            "leisure_count_3000 - 0.0%\n",
            "sport_count_3000 - 0.0%\n",
            "market_count_3000 - 0.0%\n",
            "green_part_5000 - 0.0%\n",
            "prom_part_5000 - 1.0%\n",
            "office_count_5000 - 0.0%\n",
            "office_sqm_5000 - 0.0%\n",
            "trc_count_5000 - 0.0%\n",
            "trc_sqm_5000 - 0.0%\n",
            "cafe_count_5000 - 0.0%\n",
            "cafe_sum_5000_min_price_avg - 2.0%\n",
            "cafe_sum_5000_max_price_avg - 2.0%\n",
            "cafe_avg_price_5000 - 2.0%\n",
            "cafe_count_5000_na_price - 0.0%\n",
            "cafe_count_5000_price_500 - 0.0%\n",
            "cafe_count_5000_price_1000 - 0.0%\n",
            "cafe_count_5000_price_1500 - 0.0%\n",
            "cafe_count_5000_price_2500 - 0.0%\n",
            "cafe_count_5000_price_4000 - 0.0%\n",
            "cafe_count_5000_price_high - 0.0%\n",
            "big_church_count_5000 - 0.0%\n",
            "church_count_5000 - 0.0%\n",
            "mosque_count_5000 - 0.0%\n",
            "leisure_count_5000 - 0.0%\n",
            "sport_count_5000 - 0.0%\n",
            "market_count_5000 - 0.0%\n"
          ],
          "name": "stdout"
        }
      ]
    },
    {
      "cell_type": "markdown",
      "metadata": {
        "id": "By6VEFrmNnIA",
        "colab_type": "text"
      },
      "source": [
        "## **Missing Data Histogram**"
      ]
    },
    {
      "cell_type": "code",
      "metadata": {
        "id": "lL5bnm-gNnSn",
        "colab_type": "code",
        "colab": {
          "base_uri": "https://localhost:8080/",
          "height": 1000
        },
        "outputId": "13835f77-b7dd-4440-df7c-4dcd14b774c8"
      },
      "source": [
        "for col in df.columns:\n",
        "    missing = df[col].isnull()\n",
        "    num_missing = np.sum(missing)\n",
        "    \n",
        "    if num_missing > 0:  \n",
        "        print('created missing indicator for: {}'.format(col))\n",
        "        df['{}_ismissing'.format(col)] = missing\n",
        "\n",
        "\n",
        "# then based on the indicator, plot the histogram of missing values\n",
        "ismissing_cols = [col for col in df.columns if 'ismissing' in col]\n",
        "df['num_missing'] = df[ismissing_cols].sum(axis=1)\n",
        "\n",
        "df['num_missing'].value_counts().reset_index().sort_values(by='index').plot.bar(x='index', y='num_missing')"
      ],
      "execution_count": 12,
      "outputs": [
        {
          "output_type": "stream",
          "text": [
            "created missing indicator for: life_sq\n",
            "created missing indicator for: build_year\n",
            "created missing indicator for: state\n",
            "created missing indicator for: product_type\n",
            "created missing indicator for: preschool_quota\n",
            "created missing indicator for: school_quota\n",
            "created missing indicator for: hospital_beds_raion\n",
            "created missing indicator for: raion_build_count_with_material_info\n",
            "created missing indicator for: build_count_block\n",
            "created missing indicator for: build_count_wood\n",
            "created missing indicator for: build_count_frame\n",
            "created missing indicator for: build_count_brick\n",
            "created missing indicator for: build_count_monolith\n",
            "created missing indicator for: build_count_panel\n",
            "created missing indicator for: build_count_foam\n",
            "created missing indicator for: build_count_slag\n",
            "created missing indicator for: build_count_mix\n",
            "created missing indicator for: raion_build_count_with_builddate_info\n",
            "created missing indicator for: build_count_before_1920\n",
            "created missing indicator for: build_count_1921-1945\n",
            "created missing indicator for: build_count_1946-1970\n",
            "created missing indicator for: build_count_1971-1995\n",
            "created missing indicator for: build_count_after_1995\n",
            "created missing indicator for: metro_min_walk\n",
            "created missing indicator for: metro_km_walk\n",
            "created missing indicator for: railroad_station_walk_km\n",
            "created missing indicator for: railroad_station_walk_min\n",
            "created missing indicator for: ID_railroad_station_walk\n",
            "created missing indicator for: cafe_sum_500_min_price_avg\n",
            "created missing indicator for: cafe_sum_500_max_price_avg\n",
            "created missing indicator for: cafe_avg_price_500\n",
            "created missing indicator for: cafe_sum_1000_min_price_avg\n",
            "created missing indicator for: cafe_sum_1000_max_price_avg\n",
            "created missing indicator for: cafe_avg_price_1000\n",
            "created missing indicator for: cafe_sum_1500_min_price_avg\n",
            "created missing indicator for: cafe_sum_1500_max_price_avg\n",
            "created missing indicator for: cafe_avg_price_1500\n",
            "created missing indicator for: green_part_2000\n",
            "created missing indicator for: cafe_sum_2000_min_price_avg\n",
            "created missing indicator for: cafe_sum_2000_max_price_avg\n",
            "created missing indicator for: cafe_avg_price_2000\n",
            "created missing indicator for: cafe_sum_3000_min_price_avg\n",
            "created missing indicator for: cafe_sum_3000_max_price_avg\n",
            "created missing indicator for: cafe_avg_price_3000\n",
            "created missing indicator for: prom_part_5000\n",
            "created missing indicator for: cafe_sum_5000_min_price_avg\n",
            "created missing indicator for: cafe_sum_5000_max_price_avg\n",
            "created missing indicator for: cafe_avg_price_5000\n"
          ],
          "name": "stdout"
        },
        {
          "output_type": "execute_result",
          "data": {
            "text/plain": [
              "<matplotlib.axes._subplots.AxesSubplot at 0x7f62aa852198>"
            ]
          },
          "metadata": {
            "tags": []
          },
          "execution_count": 12
        },
        {
          "output_type": "display_data",
          "data": {
            "image/png": "[encoded data removed]",
            "text/plain": [
              "<Figure size 864x576 with 1 Axes>"
            ]
          },
          "metadata": {
            "tags": [],
            "needs_background": "light"
          }
        }
      ]
    },
    {
      "cell_type": "markdown",
      "metadata": {
        "id": "QribKJifN9af",
        "colab_type": "text"
      },
      "source": [
        "## **Soluciones**\n",
        "# Drop the Observation"
      ]
    },
    {
      "cell_type": "code",
      "metadata": {
        "id": "PCH8pwtxN9l9",
        "colab_type": "code",
        "colab": {}
      },
      "source": [
        "# drop rows with a lot of missing values.\n",
        "ind_missing = df[df['num_missing'] > 35].index\n",
        "df_less_missing_rows = df.drop(ind_missing, axis=0)"
      ],
      "execution_count": 0,
      "outputs": []
    }
  ]
}